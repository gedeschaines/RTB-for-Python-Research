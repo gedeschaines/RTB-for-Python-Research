{
 "cells": [
  {
   "cell_type": "code",
   "execution_count": null,
   "metadata": {},
   "outputs": [],
   "source": [
    "# FILE: shape_xform.ipynb\n",
    "# DATE: 2 JAN 2019\n",
    "# AUTH: G. E. Deschaines\n",
    "# DESC: This Jupyter notebook presents a rudimentary implementation of the basic Robotics Toolbox\n",
    "#       (RTB) for MATLAB 3D graphic elements -- coordinate frame transform and manipulator arm/joint\n",
    "#       cylinder -- displayed by the trplot() function and SerialLink.plot() method respectively.\n",
    "#       Implementation presented herein is only a proof of principle demonstration for suitability\n",
    "#       of ipyvolume/ipywidgets as a RTB for Python GUI supported by Jupyter lab and notebooks.\n",
    "#\n",
    "# REVS:\n",
    "#\n",
    "#   01-02-2019  Reason: Added header REVS section to document changes made to this notebook on\n",
    "#                       MyBinder Hub site before committed to GitHub repository.\n",
    "#                       \n",
    "#   01-02-2019  Reason: Found out how to save controlled animations which can be viewed in an \n",
    "#                       HTML page.\n",
    "#               Added:  p3.save(\"shape_xform.html\",offline=True)\n",
    "#\n",
    "#   01-02-2019  Reason: Only the direction of Zfv is used for the quiver arrow, not the magnitude.\n",
    "#                       The plotted coordinates of the tip of the Z-axis is in Zf[:,1,:], which\n",
    "#                       should be modified before the transform is applied to Zfo[1,:].\n",
    "#               Added:  Zfo[1,:] = 1.5*(Zfo[1,:]-Zfo[0,:]) + Zfo[0,:]\n",
    "#               Swap:   Zfv = 3*(Zf[:,1,:] - Zf[:,0,:])\n",
    "#               with:   Zfv = Zf[:,1,:] - Zf[:,0,:]\n",
    "#\n",
    "#  01-02-2019   Reason: Reformatted header DESC to prevent wrap-around text."
   ]
  },
  {
   "cell_type": "code",
   "execution_count": null,
   "metadata": {},
   "outputs": [],
   "source": [
    "import ipyvolume.pylab as p3\n",
    "import ipyvolume as ipv\n",
    "import numpy as np\n",
    "\n",
    "from shapexformplot import *  # provides RTB for Python components to create and manipulate 3D graphic elements"
   ]
  },
  {
   "cell_type": "code",
   "execution_count": null,
   "metadata": {},
   "outputs": [],
   "source": [
    "# define a parametric cylinder and a coordinate frame about the world space origin\n",
    "(Xco, Yco, Zco) = parametric_cylinder(1.0, 2.0, 32)\n",
    "(Xfo, Yfo, Zfo) = parametric_frame(1)\n",
    "\n",
    "# stretch the unit length Z-axis to 1.5 units in length\n",
    "Zfo[1,:] = 1.5*(Zfo[1,:]-Zfo[0,:]) + Zfo[0,:]"
   ]
  },
  {
   "cell_type": "code",
   "execution_count": null,
   "metadata": {},
   "outputs": [],
   "source": [
    "# create homogeneous transform\n",
    "phi = -45.0                          # shape's roll about Z-axis\n",
    "theta = np.linspace(0.0, 360.0, 36)  # shape's -pitch about Y-axis\n",
    "psi = 0.0                            # shape's yaw about Z-axis\n",
    "\n",
    "Tr = []\n",
    "k = len(theta)\n",
    "for i in range(0,k):\n",
    "   tr =  eul2tr(phi*RPD, theta[i]*RPD, psi*RPD)\n",
    "   Tr.append(tr)"
   ]
  },
  {
   "cell_type": "code",
   "execution_count": null,
   "metadata": {},
   "outputs": [],
   "source": [
    "# apply transform to the parametric shape coordinates\n",
    "Xc = np.ndarray( (k, Xco.shape[0], Xco.shape[1]) );\n",
    "Yc = np.ndarray( (k, Yco.shape[0], Yco.shape[1]) );\n",
    "Zc = np.ndarray( (k, Zco.shape[0], Zco.shape[1]) );\n",
    "Xf = np.ndarray( (k, Xfo.shape[0], Xfo.shape[1]) );\n",
    "Yf = np.ndarray( (k, Yfo.shape[0], Yfo.shape[1]) );\n",
    "Zf = np.ndarray( (k, Zfo.shape[0], Zfo.shape[1]) );\n",
    "for i in range(0,k):\n",
    "    (Xc[i,:,:], Yc[i,:,:], Zc[i,:,:]) = shape_xform(Xco, Yco, Zco, Tr[i])\n",
    "    (Xf[i,:,:], Yf[i,:,:], Zf[i,:,:]) = shape_xform(Xfo, Yfo, Zfo, Tr[i])"
   ]
  },
  {
   "cell_type": "code",
   "execution_count": null,
   "metadata": {
    "scrolled": false
   },
   "outputs": [],
   "source": [
    "# create ipyvolume figure to display cylinder and coordinate frame transform animation\n",
    "fig = p3.figure(width=480, height=480)\n",
    "\n",
    "# set ipyvolume style properties\n",
    "p3.style.background_color('black')\n",
    "p3.style.box_off()\n",
    "p3.style.use(\"dark\")\n",
    "p3.style.use({'xaxis.color':\"red\"})    # <-+\n",
    "p3.style.use({'yaxis.color':\"green\"})  # <-+- do not appear to be working\n",
    "p3.style.use({'zaxis.color':\"blue\"})   # <-+\n",
    "\n",
    "# set figure view and axes \n",
    "p3.view(0.0, -120.0)\n",
    "p3.xyzlim(-2.0, 2.0)\n",
    "p3.xyzlabel('X','Y','Z')\n",
    "\n",
    "# coordinate frame axes line segments\n",
    "Lx = p3.plot(Xf[:,0:2,0], Yf[:,0:2,0], Zf[:,0:2,0], color='red', size=2)\n",
    "Lx.material.visible = False\n",
    "Lx.line_material.visible = True\n",
    "Ly = p3.plot(Xf[:,0:2,1], Yf[:,0:2,1], Zf[:,0:2,1], color='green')\n",
    "Ly.material.visible = False\n",
    "Ly.line_material.visible = True\n",
    "Lz = p3.plot(Xf[:,0:2,2], Yf[:,0:2,2], Zf[:,0:2,2], color='blue')\n",
    "Lz.material.visible = False\n",
    "Lz.line_material.visible = True\n",
    "\n",
    "# coordinate frame axes line segment tip arrows\n",
    "Xfv = Xf[:,1,:] - Xf[:,0,:]\n",
    "Yfv = Yf[:,1,:] - Yf[:,0,:]\n",
    "Zfv = Zf[:,1,:] - Zf[:,0,:]\n",
    "arrowcols = np.zeros((k,3,3))\n",
    "arrowcols[0:k,0,0] = 1.0\n",
    "arrowcols[0:k,1,1] = 1.0\n",
    "arrowcols[0:k,2,2] = 1.0\n",
    "q = p3.quiver(Xf[:,1,:], Yf[:,1,:], Zf[:,1,:], Xfv[:,:], Yfv[:,:], Zfv[:,:],\n",
    "              size=10, size_selected=5, color=arrowcols, color_selected='gray')\n",
    "\n",
    "# cylinder body surface\n",
    "s = p3.plot_surface(Xc, Yc, Zc, color='orange')\n",
    "\n",
    "# pass ipyvolume objects to animation controller and show\n",
    "p3.animation_control([Lx,Ly,Lz,q,s], interval=100)\n",
    "p3.show()"
   ]
  },
  {
   "cell_type": "code",
   "execution_count": null,
   "metadata": {},
   "outputs": [],
   "source": [
    "p3.save(\"shape_xform.html\",offline=True)"
   ]
  },
  {
   "cell_type": "code",
   "execution_count": null,
   "metadata": {},
   "outputs": [],
   "source": []
  }
 ],
 "metadata": {
  "kernelspec": {
   "display_name": "Python 3",
   "language": "python",
   "name": "python3"
  },
  "language_info": {
   "codemirror_mode": {
    "name": "ipython",
    "version": 3
   },
   "file_extension": ".py",
   "mimetype": "text/x-python",
   "name": "python",
   "nbconvert_exporter": "python",
   "pygments_lexer": "ipython3",
   "version": "3.6.7"
  }
 },
 "nbformat": 4,
 "nbformat_minor": 2
}
